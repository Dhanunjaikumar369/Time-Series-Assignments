{
  "nbformat": 4,
  "nbformat_minor": 0,
  "metadata": {
    "colab": {
      "provenance": []
    },
    "kernelspec": {
      "name": "python3",
      "display_name": "Python 3"
    },
    "language_info": {
      "name": "python"
    }
  },
  "cells": [
    {
      "cell_type": "code",
      "execution_count": 1,
      "metadata": {
        "id": "MOzO3Cmte9no"
      },
      "outputs": [],
      "source": [
        "import pandas as pd\n",
        "import numpy as np\n",
        "import matplotlib as mpl\n",
        "import matplotlib.pyplot as plt"
      ]
    },
    {
      "cell_type": "code",
      "source": [
        "import tensorflow as tf"
      ],
      "metadata": {
        "id": "KrBzuhz2fR_3"
      },
      "execution_count": 2,
      "outputs": []
    },
    {
      "cell_type": "code",
      "source": [
        "# Importing libraries\n",
        "from keras.models import Sequential\n",
        "from keras.layers import LSTM\n",
        "from keras.layers.core import Dense, Dropout\n",
        "from sklearn.model_selection import train_test_split"
      ],
      "metadata": {
        "id": "5TTSokmWfU8u"
      },
      "execution_count": 3,
      "outputs": []
    },
    {
      "cell_type": "code",
      "source": [
        "# Import Keras\n",
        "from keras import backend as K\n",
        "# sess = tf.Session(graph=tf.get_default_graph(), config=session_conf)\n",
        "# K.set_session(sess)"
      ],
      "metadata": {
        "id": "An4tYltDfYhG"
      },
      "execution_count": 4,
      "outputs": []
    },
    {
      "cell_type": "code",
      "source": [
        "# Initializing parameters\n",
        "epochs = 30\n",
        "batch_size = 16\n",
        "n_hidden = 32"
      ],
      "metadata": {
        "id": "PW8f5v08fbGP"
      },
      "execution_count": 5,
      "outputs": []
    },
    {
      "cell_type": "code",
      "source": [
        "df=pd.read_csv('/content/sample_data/dataset_for_technical_assessment.csv')\n",
        "df=df.loc[df.y1.notnull(),:]\n",
        "df=df.loc[df.x4.notnull()]"
      ],
      "metadata": {
        "id": "KwASzVIDfnhZ"
      },
      "execution_count": 9,
      "outputs": []
    },
    {
      "cell_type": "code",
      "source": [
        "x_train,x_test,y_train,y_test=train_test_split(df.drop(['y1','y2','Description'],axis=1),df[['y1']],test_size=0.2,random_state =42)"
      ],
      "metadata": {
        "id": "KQk-xV31frm6"
      },
      "execution_count": 10,
      "outputs": []
    },
    {
      "cell_type": "code",
      "source": [
        "def mape(x,y):\n",
        "    val=np.mean(abs((reg.predict(x)-y)/y))\n",
        "    return val\n",
        "  "
      ],
      "metadata": {
        "id": "YPv7wtBoliCB"
      },
      "execution_count": 11,
      "outputs": []
    },
    {
      "cell_type": "code",
      "source": [
        "from sklearn.linear_model import LinearRegression\n",
        "reg = LinearRegression().fit(x_train[[\"x1\",'x2','x3','x4','x5','x6','x7','x8']], y_train)\n",
        "#reg.score(x_train.loc[:,[\"x1\"]], y_train)\n",
        "mape(x_test[[\"x1\",'x2','x3','x4','x5','x6','x7','x8']], y_test)\n"
      ],
      "metadata": {
        "colab": {
          "base_uri": "https://localhost:8080/"
        },
        "id": "XhoGRLYkhWbV",
        "outputId": "6e60854b-e9c5-4d90-992c-316ee8b44305"
      },
      "execution_count": 12,
      "outputs": [
        {
          "output_type": "execute_result",
          "data": {
            "text/plain": [
              "y1    11.619607\n",
              "dtype: float64"
            ]
          },
          "metadata": {},
          "execution_count": 12
        }
      ]
    },
    {
      "cell_type": "code",
      "source": [
        "df.head(3)"
      ],
      "metadata": {
        "colab": {
          "base_uri": "https://localhost:8080/",
          "height": 143
        },
        "id": "R-geBWQh2OPV",
        "outputId": "d84b9c13-8dbd-4d74-8a1f-5689dd8ce3cb"
      },
      "execution_count": 13,
      "outputs": [
        {
          "output_type": "execute_result",
          "data": {
            "text/plain": [
              "           Description        y1        y2        x1        x2        x3  \\\n",
              "0  2016-01-01 00:00:00  0.008133  0.805288  0.934119  0.182838  0.282637   \n",
              "1  2016-01-01 00:05:00  0.008964  0.799772  0.934014  0.180689  0.281720   \n",
              "2  2016-01-01 00:10:00  0.008906  0.809219  0.934031  0.181439  0.282202   \n",
              "\n",
              "         x4        x5        x6        x7        x8  \n",
              "0  0.612302  0.218844  0.036615  0.695623  0.286383  \n",
              "1  0.611908  0.220869  0.037616  0.693026  0.296014  \n",
              "2  0.610927  0.222187  0.034264  0.692654  0.289457  "
            ],
            "text/html": [
              "\n",
              "  <div id=\"df-a7a02197-4e72-4da9-bf2a-56be45cd2131\">\n",
              "    <div class=\"colab-df-container\">\n",
              "      <div>\n",
              "<style scoped>\n",
              "    .dataframe tbody tr th:only-of-type {\n",
              "        vertical-align: middle;\n",
              "    }\n",
              "\n",
              "    .dataframe tbody tr th {\n",
              "        vertical-align: top;\n",
              "    }\n",
              "\n",
              "    .dataframe thead th {\n",
              "        text-align: right;\n",
              "    }\n",
              "</style>\n",
              "<table border=\"1\" class=\"dataframe\">\n",
              "  <thead>\n",
              "    <tr style=\"text-align: right;\">\n",
              "      <th></th>\n",
              "      <th>Description</th>\n",
              "      <th>y1</th>\n",
              "      <th>y2</th>\n",
              "      <th>x1</th>\n",
              "      <th>x2</th>\n",
              "      <th>x3</th>\n",
              "      <th>x4</th>\n",
              "      <th>x5</th>\n",
              "      <th>x6</th>\n",
              "      <th>x7</th>\n",
              "      <th>x8</th>\n",
              "    </tr>\n",
              "  </thead>\n",
              "  <tbody>\n",
              "    <tr>\n",
              "      <th>0</th>\n",
              "      <td>2016-01-01 00:00:00</td>\n",
              "      <td>0.008133</td>\n",
              "      <td>0.805288</td>\n",
              "      <td>0.934119</td>\n",
              "      <td>0.182838</td>\n",
              "      <td>0.282637</td>\n",
              "      <td>0.612302</td>\n",
              "      <td>0.218844</td>\n",
              "      <td>0.036615</td>\n",
              "      <td>0.695623</td>\n",
              "      <td>0.286383</td>\n",
              "    </tr>\n",
              "    <tr>\n",
              "      <th>1</th>\n",
              "      <td>2016-01-01 00:05:00</td>\n",
              "      <td>0.008964</td>\n",
              "      <td>0.799772</td>\n",
              "      <td>0.934014</td>\n",
              "      <td>0.180689</td>\n",
              "      <td>0.281720</td>\n",
              "      <td>0.611908</td>\n",
              "      <td>0.220869</td>\n",
              "      <td>0.037616</td>\n",
              "      <td>0.693026</td>\n",
              "      <td>0.296014</td>\n",
              "    </tr>\n",
              "    <tr>\n",
              "      <th>2</th>\n",
              "      <td>2016-01-01 00:10:00</td>\n",
              "      <td>0.008906</td>\n",
              "      <td>0.809219</td>\n",
              "      <td>0.934031</td>\n",
              "      <td>0.181439</td>\n",
              "      <td>0.282202</td>\n",
              "      <td>0.610927</td>\n",
              "      <td>0.222187</td>\n",
              "      <td>0.034264</td>\n",
              "      <td>0.692654</td>\n",
              "      <td>0.289457</td>\n",
              "    </tr>\n",
              "  </tbody>\n",
              "</table>\n",
              "</div>\n",
              "      <button class=\"colab-df-convert\" onclick=\"convertToInteractive('df-a7a02197-4e72-4da9-bf2a-56be45cd2131')\"\n",
              "              title=\"Convert this dataframe to an interactive table.\"\n",
              "              style=\"display:none;\">\n",
              "        \n",
              "  <svg xmlns=\"http://www.w3.org/2000/svg\" height=\"24px\"viewBox=\"0 0 24 24\"\n",
              "       width=\"24px\">\n",
              "    <path d=\"M0 0h24v24H0V0z\" fill=\"none\"/>\n",
              "    <path d=\"M18.56 5.44l.94 2.06.94-2.06 2.06-.94-2.06-.94-.94-2.06-.94 2.06-2.06.94zm-11 1L8.5 8.5l.94-2.06 2.06-.94-2.06-.94L8.5 2.5l-.94 2.06-2.06.94zm10 10l.94 2.06.94-2.06 2.06-.94-2.06-.94-.94-2.06-.94 2.06-2.06.94z\"/><path d=\"M17.41 7.96l-1.37-1.37c-.4-.4-.92-.59-1.43-.59-.52 0-1.04.2-1.43.59L10.3 9.45l-7.72 7.72c-.78.78-.78 2.05 0 2.83L4 21.41c.39.39.9.59 1.41.59.51 0 1.02-.2 1.41-.59l7.78-7.78 2.81-2.81c.8-.78.8-2.07 0-2.86zM5.41 20L4 18.59l7.72-7.72 1.47 1.35L5.41 20z\"/>\n",
              "  </svg>\n",
              "      </button>\n",
              "      \n",
              "  <style>\n",
              "    .colab-df-container {\n",
              "      display:flex;\n",
              "      flex-wrap:wrap;\n",
              "      gap: 12px;\n",
              "    }\n",
              "\n",
              "    .colab-df-convert {\n",
              "      background-color: #E8F0FE;\n",
              "      border: none;\n",
              "      border-radius: 50%;\n",
              "      cursor: pointer;\n",
              "      display: none;\n",
              "      fill: #1967D2;\n",
              "      height: 32px;\n",
              "      padding: 0 0 0 0;\n",
              "      width: 32px;\n",
              "    }\n",
              "\n",
              "    .colab-df-convert:hover {\n",
              "      background-color: #E2EBFA;\n",
              "      box-shadow: 0px 1px 2px rgba(60, 64, 67, 0.3), 0px 1px 3px 1px rgba(60, 64, 67, 0.15);\n",
              "      fill: #174EA6;\n",
              "    }\n",
              "\n",
              "    [theme=dark] .colab-df-convert {\n",
              "      background-color: #3B4455;\n",
              "      fill: #D2E3FC;\n",
              "    }\n",
              "\n",
              "    [theme=dark] .colab-df-convert:hover {\n",
              "      background-color: #434B5C;\n",
              "      box-shadow: 0px 1px 3px 1px rgba(0, 0, 0, 0.15);\n",
              "      filter: drop-shadow(0px 1px 2px rgba(0, 0, 0, 0.3));\n",
              "      fill: #FFFFFF;\n",
              "    }\n",
              "  </style>\n",
              "\n",
              "      <script>\n",
              "        const buttonEl =\n",
              "          document.querySelector('#df-a7a02197-4e72-4da9-bf2a-56be45cd2131 button.colab-df-convert');\n",
              "        buttonEl.style.display =\n",
              "          google.colab.kernel.accessAllowed ? 'block' : 'none';\n",
              "\n",
              "        async function convertToInteractive(key) {\n",
              "          const element = document.querySelector('#df-a7a02197-4e72-4da9-bf2a-56be45cd2131');\n",
              "          const dataTable =\n",
              "            await google.colab.kernel.invokeFunction('convertToInteractive',\n",
              "                                                     [key], {});\n",
              "          if (!dataTable) return;\n",
              "\n",
              "          const docLinkHtml = 'Like what you see? Visit the ' +\n",
              "            '<a target=\"_blank\" href=https://colab.research.google.com/notebooks/data_table.ipynb>data table notebook</a>'\n",
              "            + ' to learn more about interactive tables.';\n",
              "          element.innerHTML = '';\n",
              "          dataTable['output_type'] = 'display_data';\n",
              "          await google.colab.output.renderOutput(dataTable, element);\n",
              "          const docLink = document.createElement('div');\n",
              "          docLink.innerHTML = docLinkHtml;\n",
              "          element.appendChild(docLink);\n",
              "        }\n",
              "      </script>\n",
              "    </div>\n",
              "  </div>\n",
              "  "
            ]
          },
          "metadata": {},
          "execution_count": 13
        }
      ]
    },
    {
      "cell_type": "code",
      "source": [
        "#df['new_col']=df[['x1',\t'x2',\t'x3',\t'x4',\t'x5',\t'x6',\t'x7',\t'x8']].values.tolist()"
      ],
      "metadata": {
        "colab": {
          "base_uri": "https://localhost:8080/"
        },
        "id": "swmcJ6kY3Yb4",
        "outputId": "85859b84-51ad-452d-946b-76c9ee81d26e"
      },
      "execution_count": 192,
      "outputs": [
        {
          "output_type": "stream",
          "name": "stderr",
          "text": [
            "<ipython-input-192-88c64ef8a72f>:1: SettingWithCopyWarning: \n",
            "A value is trying to be set on a copy of a slice from a DataFrame.\n",
            "Try using .loc[row_indexer,col_indexer] = value instead\n",
            "\n",
            "See the caveats in the documentation: https://pandas.pydata.org/pandas-docs/stable/user_guide/indexing.html#returning-a-view-versus-a-copy\n",
            "  df['new_col']=df[['x1',\t'x2',\t'x3',\t'x4',\t'x5',\t'x6',\t'x7',\t'x8']].values.tolist()\n"
          ]
        }
      ]
    },
    {
      "cell_type": "code",
      "source": [
        "df"
      ],
      "metadata": {
        "colab": {
          "base_uri": "https://localhost:8080/",
          "height": 424
        },
        "id": "6ejr-No_H6fE",
        "outputId": "6c0c75a4-24a3-4203-9972-92d212464827"
      },
      "execution_count": 14,
      "outputs": [
        {
          "output_type": "execute_result",
          "data": {
            "text/plain": [
              "                Description        y1        y2        x1        x2        x3  \\\n",
              "0       2016-01-01 00:00:00  0.008133  0.805288  0.934119  0.182838  0.282637   \n",
              "1       2016-01-01 00:05:00  0.008964  0.799772  0.934014  0.180689  0.281720   \n",
              "2       2016-01-01 00:10:00  0.008906  0.809219  0.934031  0.181439  0.282202   \n",
              "3       2016-01-01 00:15:00  0.008469  0.804602  0.934367  0.182620  0.282305   \n",
              "4       2016-01-01 00:20:00  0.006882  0.799026  0.934884  0.180871  0.281051   \n",
              "...                     ...       ...       ...       ...       ...       ...   \n",
              "157807  2017-07-01 23:35:00  0.007516  0.725023  0.948420  0.627338  0.632173   \n",
              "157808  2017-07-01 23:40:00  0.007683  0.722261  0.949335  0.633572  0.639500   \n",
              "157809  2017-07-01 23:45:00  0.008906  0.728316  0.948450  0.639345  0.645229   \n",
              "157810  2017-07-01 23:50:00  0.009094  0.733958  0.946910  0.640376  0.646174   \n",
              "157811  2017-07-01 23:55:00  0.008133  0.732525  0.946880  0.640178  0.645763   \n",
              "\n",
              "              x4        x5        x6        x7        x8  \n",
              "0       0.612302  0.218844  0.036615  0.695623  0.286383  \n",
              "1       0.611908  0.220869  0.037616  0.693026  0.296014  \n",
              "2       0.610927  0.222187  0.034264  0.692654  0.289457  \n",
              "3       0.612801  0.221935  0.034894  0.693397  0.290959  \n",
              "4       0.610566  0.218883  0.038596  0.690928  0.287653  \n",
              "...          ...       ...       ...       ...       ...  \n",
              "157807  0.631040  0.261269  0.042838  0.683385  0.231942  \n",
              "157808  0.628861  0.260363  0.046228  0.683139  0.227148  \n",
              "157809  0.632574  0.262826  0.043451  0.690426  0.236186  \n",
              "157810  0.634153  0.269820  0.045295  0.693872  0.242765  \n",
              "157811  0.632321  0.264719  0.044135  0.691252  0.242006  \n",
              "\n",
              "[157737 rows x 11 columns]"
            ],
            "text/html": [
              "\n",
              "  <div id=\"df-07651404-53c2-4e09-9e13-1397138825d8\">\n",
              "    <div class=\"colab-df-container\">\n",
              "      <div>\n",
              "<style scoped>\n",
              "    .dataframe tbody tr th:only-of-type {\n",
              "        vertical-align: middle;\n",
              "    }\n",
              "\n",
              "    .dataframe tbody tr th {\n",
              "        vertical-align: top;\n",
              "    }\n",
              "\n",
              "    .dataframe thead th {\n",
              "        text-align: right;\n",
              "    }\n",
              "</style>\n",
              "<table border=\"1\" class=\"dataframe\">\n",
              "  <thead>\n",
              "    <tr style=\"text-align: right;\">\n",
              "      <th></th>\n",
              "      <th>Description</th>\n",
              "      <th>y1</th>\n",
              "      <th>y2</th>\n",
              "      <th>x1</th>\n",
              "      <th>x2</th>\n",
              "      <th>x3</th>\n",
              "      <th>x4</th>\n",
              "      <th>x5</th>\n",
              "      <th>x6</th>\n",
              "      <th>x7</th>\n",
              "      <th>x8</th>\n",
              "    </tr>\n",
              "  </thead>\n",
              "  <tbody>\n",
              "    <tr>\n",
              "      <th>0</th>\n",
              "      <td>2016-01-01 00:00:00</td>\n",
              "      <td>0.008133</td>\n",
              "      <td>0.805288</td>\n",
              "      <td>0.934119</td>\n",
              "      <td>0.182838</td>\n",
              "      <td>0.282637</td>\n",
              "      <td>0.612302</td>\n",
              "      <td>0.218844</td>\n",
              "      <td>0.036615</td>\n",
              "      <td>0.695623</td>\n",
              "      <td>0.286383</td>\n",
              "    </tr>\n",
              "    <tr>\n",
              "      <th>1</th>\n",
              "      <td>2016-01-01 00:05:00</td>\n",
              "      <td>0.008964</td>\n",
              "      <td>0.799772</td>\n",
              "      <td>0.934014</td>\n",
              "      <td>0.180689</td>\n",
              "      <td>0.281720</td>\n",
              "      <td>0.611908</td>\n",
              "      <td>0.220869</td>\n",
              "      <td>0.037616</td>\n",
              "      <td>0.693026</td>\n",
              "      <td>0.296014</td>\n",
              "    </tr>\n",
              "    <tr>\n",
              "      <th>2</th>\n",
              "      <td>2016-01-01 00:10:00</td>\n",
              "      <td>0.008906</td>\n",
              "      <td>0.809219</td>\n",
              "      <td>0.934031</td>\n",
              "      <td>0.181439</td>\n",
              "      <td>0.282202</td>\n",
              "      <td>0.610927</td>\n",
              "      <td>0.222187</td>\n",
              "      <td>0.034264</td>\n",
              "      <td>0.692654</td>\n",
              "      <td>0.289457</td>\n",
              "    </tr>\n",
              "    <tr>\n",
              "      <th>3</th>\n",
              "      <td>2016-01-01 00:15:00</td>\n",
              "      <td>0.008469</td>\n",
              "      <td>0.804602</td>\n",
              "      <td>0.934367</td>\n",
              "      <td>0.182620</td>\n",
              "      <td>0.282305</td>\n",
              "      <td>0.612801</td>\n",
              "      <td>0.221935</td>\n",
              "      <td>0.034894</td>\n",
              "      <td>0.693397</td>\n",
              "      <td>0.290959</td>\n",
              "    </tr>\n",
              "    <tr>\n",
              "      <th>4</th>\n",
              "      <td>2016-01-01 00:20:00</td>\n",
              "      <td>0.006882</td>\n",
              "      <td>0.799026</td>\n",
              "      <td>0.934884</td>\n",
              "      <td>0.180871</td>\n",
              "      <td>0.281051</td>\n",
              "      <td>0.610566</td>\n",
              "      <td>0.218883</td>\n",
              "      <td>0.038596</td>\n",
              "      <td>0.690928</td>\n",
              "      <td>0.287653</td>\n",
              "    </tr>\n",
              "    <tr>\n",
              "      <th>...</th>\n",
              "      <td>...</td>\n",
              "      <td>...</td>\n",
              "      <td>...</td>\n",
              "      <td>...</td>\n",
              "      <td>...</td>\n",
              "      <td>...</td>\n",
              "      <td>...</td>\n",
              "      <td>...</td>\n",
              "      <td>...</td>\n",
              "      <td>...</td>\n",
              "      <td>...</td>\n",
              "    </tr>\n",
              "    <tr>\n",
              "      <th>157807</th>\n",
              "      <td>2017-07-01 23:35:00</td>\n",
              "      <td>0.007516</td>\n",
              "      <td>0.725023</td>\n",
              "      <td>0.948420</td>\n",
              "      <td>0.627338</td>\n",
              "      <td>0.632173</td>\n",
              "      <td>0.631040</td>\n",
              "      <td>0.261269</td>\n",
              "      <td>0.042838</td>\n",
              "      <td>0.683385</td>\n",
              "      <td>0.231942</td>\n",
              "    </tr>\n",
              "    <tr>\n",
              "      <th>157808</th>\n",
              "      <td>2017-07-01 23:40:00</td>\n",
              "      <td>0.007683</td>\n",
              "      <td>0.722261</td>\n",
              "      <td>0.949335</td>\n",
              "      <td>0.633572</td>\n",
              "      <td>0.639500</td>\n",
              "      <td>0.628861</td>\n",
              "      <td>0.260363</td>\n",
              "      <td>0.046228</td>\n",
              "      <td>0.683139</td>\n",
              "      <td>0.227148</td>\n",
              "    </tr>\n",
              "    <tr>\n",
              "      <th>157809</th>\n",
              "      <td>2017-07-01 23:45:00</td>\n",
              "      <td>0.008906</td>\n",
              "      <td>0.728316</td>\n",
              "      <td>0.948450</td>\n",
              "      <td>0.639345</td>\n",
              "      <td>0.645229</td>\n",
              "      <td>0.632574</td>\n",
              "      <td>0.262826</td>\n",
              "      <td>0.043451</td>\n",
              "      <td>0.690426</td>\n",
              "      <td>0.236186</td>\n",
              "    </tr>\n",
              "    <tr>\n",
              "      <th>157810</th>\n",
              "      <td>2017-07-01 23:50:00</td>\n",
              "      <td>0.009094</td>\n",
              "      <td>0.733958</td>\n",
              "      <td>0.946910</td>\n",
              "      <td>0.640376</td>\n",
              "      <td>0.646174</td>\n",
              "      <td>0.634153</td>\n",
              "      <td>0.269820</td>\n",
              "      <td>0.045295</td>\n",
              "      <td>0.693872</td>\n",
              "      <td>0.242765</td>\n",
              "    </tr>\n",
              "    <tr>\n",
              "      <th>157811</th>\n",
              "      <td>2017-07-01 23:55:00</td>\n",
              "      <td>0.008133</td>\n",
              "      <td>0.732525</td>\n",
              "      <td>0.946880</td>\n",
              "      <td>0.640178</td>\n",
              "      <td>0.645763</td>\n",
              "      <td>0.632321</td>\n",
              "      <td>0.264719</td>\n",
              "      <td>0.044135</td>\n",
              "      <td>0.691252</td>\n",
              "      <td>0.242006</td>\n",
              "    </tr>\n",
              "  </tbody>\n",
              "</table>\n",
              "<p>157737 rows × 11 columns</p>\n",
              "</div>\n",
              "      <button class=\"colab-df-convert\" onclick=\"convertToInteractive('df-07651404-53c2-4e09-9e13-1397138825d8')\"\n",
              "              title=\"Convert this dataframe to an interactive table.\"\n",
              "              style=\"display:none;\">\n",
              "        \n",
              "  <svg xmlns=\"http://www.w3.org/2000/svg\" height=\"24px\"viewBox=\"0 0 24 24\"\n",
              "       width=\"24px\">\n",
              "    <path d=\"M0 0h24v24H0V0z\" fill=\"none\"/>\n",
              "    <path d=\"M18.56 5.44l.94 2.06.94-2.06 2.06-.94-2.06-.94-.94-2.06-.94 2.06-2.06.94zm-11 1L8.5 8.5l.94-2.06 2.06-.94-2.06-.94L8.5 2.5l-.94 2.06-2.06.94zm10 10l.94 2.06.94-2.06 2.06-.94-2.06-.94-.94-2.06-.94 2.06-2.06.94z\"/><path d=\"M17.41 7.96l-1.37-1.37c-.4-.4-.92-.59-1.43-.59-.52 0-1.04.2-1.43.59L10.3 9.45l-7.72 7.72c-.78.78-.78 2.05 0 2.83L4 21.41c.39.39.9.59 1.41.59.51 0 1.02-.2 1.41-.59l7.78-7.78 2.81-2.81c.8-.78.8-2.07 0-2.86zM5.41 20L4 18.59l7.72-7.72 1.47 1.35L5.41 20z\"/>\n",
              "  </svg>\n",
              "      </button>\n",
              "      \n",
              "  <style>\n",
              "    .colab-df-container {\n",
              "      display:flex;\n",
              "      flex-wrap:wrap;\n",
              "      gap: 12px;\n",
              "    }\n",
              "\n",
              "    .colab-df-convert {\n",
              "      background-color: #E8F0FE;\n",
              "      border: none;\n",
              "      border-radius: 50%;\n",
              "      cursor: pointer;\n",
              "      display: none;\n",
              "      fill: #1967D2;\n",
              "      height: 32px;\n",
              "      padding: 0 0 0 0;\n",
              "      width: 32px;\n",
              "    }\n",
              "\n",
              "    .colab-df-convert:hover {\n",
              "      background-color: #E2EBFA;\n",
              "      box-shadow: 0px 1px 2px rgba(60, 64, 67, 0.3), 0px 1px 3px 1px rgba(60, 64, 67, 0.15);\n",
              "      fill: #174EA6;\n",
              "    }\n",
              "\n",
              "    [theme=dark] .colab-df-convert {\n",
              "      background-color: #3B4455;\n",
              "      fill: #D2E3FC;\n",
              "    }\n",
              "\n",
              "    [theme=dark] .colab-df-convert:hover {\n",
              "      background-color: #434B5C;\n",
              "      box-shadow: 0px 1px 3px 1px rgba(0, 0, 0, 0.15);\n",
              "      filter: drop-shadow(0px 1px 2px rgba(0, 0, 0, 0.3));\n",
              "      fill: #FFFFFF;\n",
              "    }\n",
              "  </style>\n",
              "\n",
              "      <script>\n",
              "        const buttonEl =\n",
              "          document.querySelector('#df-07651404-53c2-4e09-9e13-1397138825d8 button.colab-df-convert');\n",
              "        buttonEl.style.display =\n",
              "          google.colab.kernel.accessAllowed ? 'block' : 'none';\n",
              "\n",
              "        async function convertToInteractive(key) {\n",
              "          const element = document.querySelector('#df-07651404-53c2-4e09-9e13-1397138825d8');\n",
              "          const dataTable =\n",
              "            await google.colab.kernel.invokeFunction('convertToInteractive',\n",
              "                                                     [key], {});\n",
              "          if (!dataTable) return;\n",
              "\n",
              "          const docLinkHtml = 'Like what you see? Visit the ' +\n",
              "            '<a target=\"_blank\" href=https://colab.research.google.com/notebooks/data_table.ipynb>data table notebook</a>'\n",
              "            + ' to learn more about interactive tables.';\n",
              "          element.innerHTML = '';\n",
              "          dataTable['output_type'] = 'display_data';\n",
              "          await google.colab.output.renderOutput(dataTable, element);\n",
              "          const docLink = document.createElement('div');\n",
              "          docLink.innerHTML = docLinkHtml;\n",
              "          element.appendChild(docLink);\n",
              "        }\n",
              "      </script>\n",
              "    </div>\n",
              "  </div>\n",
              "  "
            ]
          },
          "metadata": {},
          "execution_count": 14
        }
      ]
    },
    {
      "cell_type": "code",
      "source": [
        "timesteps = 36\n",
        "i=0\n",
        "df1= pd.DataFrame()\n",
        "for i in range(0,df.shape[0]):\n",
        "    df2 = pd.DataFrame(np.reshape(df.iloc[i:i+timesteps,1].values,(1,timesteps)))\n",
        "    df2['y1'] = df.iloc[i+timesteps,1]\n",
        "    if i == 0 :\n",
        "      df1= df2\n",
        "    else:\n",
        "      df1= pd.concat([df1,df2],axis=0)\n",
        "    i = i + 1\n",
        "    \n",
        "    if i >= 100000:\n",
        "      break\n",
        "#df1.columns =['x','y']     \n",
        "\n"
      ],
      "metadata": {
        "id": "fohpOtodo3Qb"
      },
      "execution_count": 82,
      "outputs": []
    },
    {
      "cell_type": "code",
      "source": [
        "x_train=np.array(df1.iloc[:,:36].values)\n",
        "y_train=np.array(df1.iloc[:,36])"
      ],
      "metadata": {
        "id": "EA6o1IftOeKL"
      },
      "execution_count": 85,
      "outputs": []
    },
    {
      "cell_type": "code",
      "source": [
        "timesteps = 36\n",
        "i=0\n",
        "df1= pd.DataFrame()\n",
        "for i in range(100000,df.shape[0]-36):\n",
        "    df2 = pd.DataFrame(np.reshape(df.iloc[i:i+timesteps,1].values,(1,timesteps)))\n",
        "    df2['y1'] = df.iloc[i+timesteps,1]\n",
        "    if i == 0 :\n",
        "      df1= df2\n",
        "    else:\n",
        "      df1= pd.concat([df1,df2],axis=0)\n",
        "    i = i + 1"
      ],
      "metadata": {
        "id": "-zV_ha3AIqdx"
      },
      "execution_count": 88,
      "outputs": []
    },
    {
      "cell_type": "code",
      "source": [
        "x_test=np.array(list(df1.iloc[:,:12].values))\n",
        "y_test=np.array(list(df1.iloc[:,12]))\n"
      ],
      "metadata": {
        "id": "ob22aqUlKSQJ"
      },
      "execution_count": 54,
      "outputs": []
    },
    {
      "cell_type": "code",
      "source": [
        "BATCH_SIZE = 256 # bacth size in batch-SGD/variants\n",
        "BUFFER_SIZE = 10000 # for shuffling the dataset\n",
        "\n",
        "train_univariate = tf.data.Dataset.from_tensor_slices((x_train, y_train))\n",
        "train_univariate = train_univariate.cache().shuffle(BUFFER_SIZE).batch(BATCH_SIZE).repeat()\n",
        "#https://www.tensorflow.org/api_docs/python/tf/data/Dataset#repeat\n",
        "\n",
        "val_univariate = tf.data.Dataset.from_tensor_slices((x_test, y_test))\n",
        "val_univariate = val_univariate.batch(BATCH_SIZE).repeat()\n",
        "\n",
        "print(train_univariate)\n",
        "print(val_univariate)\n"
      ],
      "metadata": {
        "colab": {
          "base_uri": "https://localhost:8080/"
        },
        "id": "ULfYJpqTW4K8",
        "outputId": "61638896-e436-4951-dff5-2f8a2bdf2963"
      },
      "execution_count": 23,
      "outputs": [
        {
          "output_type": "stream",
          "name": "stdout",
          "text": [
            "<RepeatDataset element_spec=(TensorSpec(shape=(None, 12), dtype=tf.float64, name=None), TensorSpec(shape=(None,), dtype=tf.float64, name=None))>\n",
            "<RepeatDataset element_spec=(TensorSpec(shape=(None, 12), dtype=tf.float64, name=None), TensorSpec(shape=(None,), dtype=tf.float64, name=None))>\n"
          ]
        }
      ]
    },
    {
      "cell_type": "code",
      "source": [
        "x_train"
      ],
      "metadata": {
        "colab": {
          "base_uri": "https://localhost:8080/"
        },
        "id": "9JCrmws-R7Gw",
        "outputId": "2208d727-e4d0-4ce8-dc4e-6c0e04e94ee9"
      },
      "execution_count": 28,
      "outputs": [
        {
          "output_type": "execute_result",
          "data": {
            "text/plain": [
              "array([[0.00813275, 0.00896427, 0.00890563, ..., 0.00796922, 0.00813275,\n",
              "        0.00726327],\n",
              "       [0.00896427, 0.00890563, 0.00846921, ..., 0.00813275, 0.00726327,\n",
              "        0.00812748],\n",
              "       [0.00890563, 0.00846921, 0.00688185, ..., 0.00726327, 0.00812748,\n",
              "        0.00890563],\n",
              "       ...,\n",
              "       [0.68178925, 0.68575023, 0.67756007, ..., 0.68818535, 0.68321142,\n",
              "        0.68428941],\n",
              "       [0.68575023, 0.67756007, 0.68542744, ..., 0.68321142, 0.68428941,\n",
              "        0.68323352],\n",
              "       [0.67756007, 0.68542744, 0.68447361, ..., 0.68428941, 0.68323352,\n",
              "        0.68695529]])"
            ]
          },
          "metadata": {},
          "execution_count": 28
        }
      ]
    },
    {
      "cell_type": "code",
      "source": [
        "# x_train=x_train.reshape(x_train.shape[0],x_train.shape[1],1)\n",
        "#y_train = y_train.reshape(y_train.shape[0],)\n",
        "# x_test=x_test.reshape(x_test.shape[0],x_test.shape[1],1)\n",
        "#y_test = y_test.reshape(y_test.shape[0],)"
      ],
      "metadata": {
        "id": "zDtHc9gcXaOq"
      },
      "execution_count": 67,
      "outputs": []
    },
    {
      "cell_type": "code",
      "source": [
        "x_train"
      ],
      "metadata": {
        "colab": {
          "base_uri": "https://localhost:8080/"
        },
        "id": "kgXzmd1HaTa9",
        "outputId": "ff856627-4657-4ff7-eb68-1276a80e9a90"
      },
      "execution_count": 78,
      "outputs": [
        {
          "output_type": "execute_result",
          "data": {
            "text/plain": [
              "array([[[0.00813275],\n",
              "        [0.00896427],\n",
              "        [0.00890563],\n",
              "        ...,\n",
              "        [0.00796922],\n",
              "        [0.00813275],\n",
              "        [0.00726327]],\n",
              "\n",
              "       [[0.00896427],\n",
              "        [0.00890563],\n",
              "        [0.00846921],\n",
              "        ...,\n",
              "        [0.00813275],\n",
              "        [0.00726327],\n",
              "        [0.00812748]],\n",
              "\n",
              "       [[0.00890563],\n",
              "        [0.00846921],\n",
              "        [0.00688185],\n",
              "        ...,\n",
              "        [0.00726327],\n",
              "        [0.00812748],\n",
              "        [0.00890563]],\n",
              "\n",
              "       ...,\n",
              "\n",
              "       [[0.68178925],\n",
              "        [0.68575023],\n",
              "        [0.67756007],\n",
              "        ...,\n",
              "        [0.68818535],\n",
              "        [0.68321142],\n",
              "        [0.68428941]],\n",
              "\n",
              "       [[0.68575023],\n",
              "        [0.67756007],\n",
              "        [0.68542744],\n",
              "        ...,\n",
              "        [0.68321142],\n",
              "        [0.68428941],\n",
              "        [0.68323352]],\n",
              "\n",
              "       [[0.67756007],\n",
              "        [0.68542744],\n",
              "        [0.68447361],\n",
              "        ...,\n",
              "        [0.68428941],\n",
              "        [0.68323352],\n",
              "        [0.68695529]]])"
            ]
          },
          "metadata": {},
          "execution_count": 78
        }
      ]
    },
    {
      "cell_type": "code",
      "source": [
        "print(x_train.shape)\n",
        "print(y_train.shape)\n",
        "print(x_test.shape)\n",
        "print(y_test.shape)"
      ],
      "metadata": {
        "colab": {
          "base_uri": "https://localhost:8080/"
        },
        "id": "kc62vUVHZDm0",
        "outputId": "2d1e01bb-7f32-41ce-9064-bdf8d0fa8c37"
      },
      "execution_count": 68,
      "outputs": [
        {
          "output_type": "stream",
          "name": "stdout",
          "text": [
            "(100000, 12, 1)\n",
            "(100000,)\n",
            "(57717, 12, 1)\n",
            "(57717,)\n"
          ]
        }
      ]
    },
    {
      "cell_type": "code",
      "source": [
        "# MODEL:\n",
        "simple_lstm_model = tf.keras.models.Sequential([\n",
        "    tf.keras.layers.LSTM(8, input_shape=x_train.shape[-2:]),\n",
        "    tf.keras.layers.Dense(1)\n",
        "])\n",
        "\n",
        "simple_lstm_model.compile(optimizer='adam', loss='mae',metrics=[tf.keras.metrics.MeanAbsolutePercentageError()])\n",
        "\n",
        "# Why not GRUs?\n",
        "# https://www.appliedaicourse.com/lecture/11/applied-machine-learning-online-course/3436/grus/8/module-8-neural-networks-computer-vision-and-deep-learning\n",
        "# https://www.quora.com/Whats-the-difference-between-LSTM-and-GRU"
      ],
      "metadata": {
        "id": "3hnxiIgKXvbu"
      },
      "execution_count": 80,
      "outputs": []
    },
    {
      "cell_type": "code",
      "source": [
        "# Train and evaluate\n",
        "STEPS_PER_EPOCH = 200\n",
        "EPOCHS = 50\n",
        "\n",
        "# https://www.tensorflow.org/api_docs/python/tf/keras/Model#fit\n",
        "simple_lstm_model.fit(train_univariate, epochs=EPOCHS,\n",
        "                      steps_per_epoch=STEPS_PER_EPOCH,\n",
        "                      validation_data=val_univariate, validation_steps=50)"
      ],
      "metadata": {
        "colab": {
          "base_uri": "https://localhost:8080/"
        },
        "id": "YXzB_K0hX7n_",
        "outputId": "4980fc7b-3211-472a-88c5-8db42830b441"
      },
      "execution_count": 81,
      "outputs": [
        {
          "output_type": "stream",
          "name": "stdout",
          "text": [
            "Epoch 1/50\n",
            "200/200 [==============================] - 4s 12ms/step - loss: 0.0115 - mean_absolute_percentage_error: 175.6740 - val_loss: 0.0036 - val_mean_absolute_percentage_error: 0.5331\n",
            "Epoch 2/50\n",
            "200/200 [==============================] - 2s 9ms/step - loss: 0.0021 - mean_absolute_percentage_error: 6.0971 - val_loss: 0.0111 - val_mean_absolute_percentage_error: 1.6730\n",
            "Epoch 3/50\n",
            "200/200 [==============================] - 2s 9ms/step - loss: 9.9162e-04 - mean_absolute_percentage_error: 165.7798 - val_loss: 0.0048 - val_mean_absolute_percentage_error: 0.7167\n",
            "Epoch 4/50\n",
            "200/200 [==============================] - 2s 9ms/step - loss: 0.0019 - mean_absolute_percentage_error: 6.2885 - val_loss: 0.0164 - val_mean_absolute_percentage_error: 2.4528\n",
            "Epoch 5/50\n",
            "200/200 [==============================] - 2s 9ms/step - loss: 0.0010 - mean_absolute_percentage_error: 177.1701 - val_loss: 0.0037 - val_mean_absolute_percentage_error: 0.5614\n",
            "Epoch 6/50\n",
            "200/200 [==============================] - 2s 9ms/step - loss: 0.0018 - mean_absolute_percentage_error: 182.6622 - val_loss: 0.0090 - val_mean_absolute_percentage_error: 1.3480\n",
            "Epoch 7/50\n",
            "200/200 [==============================] - 2s 9ms/step - loss: 0.0011 - mean_absolute_percentage_error: 8.8251 - val_loss: 0.0042 - val_mean_absolute_percentage_error: 0.6242\n",
            "Epoch 8/50\n",
            "200/200 [==============================] - 2s 9ms/step - loss: 0.0017 - mean_absolute_percentage_error: 184.5485 - val_loss: 0.0218 - val_mean_absolute_percentage_error: 3.2743\n",
            "Epoch 9/50\n",
            "200/200 [==============================] - 2s 9ms/step - loss: 0.0010 - mean_absolute_percentage_error: 8.3981 - val_loss: 0.0041 - val_mean_absolute_percentage_error: 0.6092\n",
            "Epoch 10/50\n",
            "200/200 [==============================] - 2s 9ms/step - loss: 0.0017 - mean_absolute_percentage_error: 169.1788 - val_loss: 0.0346 - val_mean_absolute_percentage_error: 5.1785\n",
            "Epoch 11/50\n",
            "200/200 [==============================] - 2s 9ms/step - loss: 0.0012 - mean_absolute_percentage_error: 8.9257 - val_loss: 0.0046 - val_mean_absolute_percentage_error: 0.6862\n",
            "Epoch 12/50\n",
            "200/200 [==============================] - 2s 10ms/step - loss: 0.0019 - mean_absolute_percentage_error: 158.2587 - val_loss: 0.0467 - val_mean_absolute_percentage_error: 6.9907\n",
            "Epoch 13/50\n",
            "200/200 [==============================] - 2s 9ms/step - loss: 0.0013 - mean_absolute_percentage_error: 8.8054 - val_loss: 0.0036 - val_mean_absolute_percentage_error: 0.5410\n",
            "Epoch 14/50\n",
            "200/200 [==============================] - 2s 9ms/step - loss: 0.0016 - mean_absolute_percentage_error: 5.1442 - val_loss: 0.0138 - val_mean_absolute_percentage_error: 2.0628\n",
            "Epoch 15/50\n",
            "200/200 [==============================] - 2s 9ms/step - loss: 0.0011 - mean_absolute_percentage_error: 171.6858 - val_loss: 0.0032 - val_mean_absolute_percentage_error: 0.4722\n",
            "Epoch 16/50\n",
            "200/200 [==============================] - 2s 9ms/step - loss: 0.0016 - mean_absolute_percentage_error: 169.5889 - val_loss: 0.0281 - val_mean_absolute_percentage_error: 4.2143\n",
            "Epoch 17/50\n",
            "200/200 [==============================] - 2s 9ms/step - loss: 0.0011 - mean_absolute_percentage_error: 8.6753 - val_loss: 0.0031 - val_mean_absolute_percentage_error: 0.4628\n",
            "Epoch 18/50\n",
            "200/200 [==============================] - 2s 9ms/step - loss: 0.0016 - mean_absolute_percentage_error: 176.6258 - val_loss: 0.0107 - val_mean_absolute_percentage_error: 1.5919\n",
            "Epoch 19/50\n",
            "200/200 [==============================] - 2s 9ms/step - loss: 0.0011 - mean_absolute_percentage_error: 8.9220 - val_loss: 0.0032 - val_mean_absolute_percentage_error: 0.4726\n",
            "Epoch 20/50\n",
            "200/200 [==============================] - 2s 10ms/step - loss: 0.0018 - mean_absolute_percentage_error: 175.7403 - val_loss: 0.0408 - val_mean_absolute_percentage_error: 6.1098\n",
            "Epoch 21/50\n",
            "200/200 [==============================] - 2s 9ms/step - loss: 0.0012 - mean_absolute_percentage_error: 8.5116 - val_loss: 0.0031 - val_mean_absolute_percentage_error: 0.4626\n",
            "Epoch 22/50\n",
            "200/200 [==============================] - 2s 9ms/step - loss: 0.0016 - mean_absolute_percentage_error: 173.3462 - val_loss: 0.0075 - val_mean_absolute_percentage_error: 1.1157\n",
            "Epoch 23/50\n",
            "200/200 [==============================] - 2s 9ms/step - loss: 0.0011 - mean_absolute_percentage_error: 8.6786 - val_loss: 0.0034 - val_mean_absolute_percentage_error: 0.5092\n",
            "Epoch 24/50\n",
            "200/200 [==============================] - 2s 9ms/step - loss: 0.0016 - mean_absolute_percentage_error: 158.3390 - val_loss: 0.0103 - val_mean_absolute_percentage_error: 1.5394\n",
            "Epoch 25/50\n",
            "200/200 [==============================] - 2s 9ms/step - loss: 0.0012 - mean_absolute_percentage_error: 8.6387 - val_loss: 0.0031 - val_mean_absolute_percentage_error: 0.4629\n",
            "Epoch 26/50\n",
            "200/200 [==============================] - 2s 9ms/step - loss: 0.0016 - mean_absolute_percentage_error: 177.5128 - val_loss: 0.0055 - val_mean_absolute_percentage_error: 0.8142\n",
            "Epoch 27/50\n",
            "200/200 [==============================] - 2s 9ms/step - loss: 0.0012 - mean_absolute_percentage_error: 8.2213 - val_loss: 0.0036 - val_mean_absolute_percentage_error: 0.5338\n",
            "Epoch 28/50\n",
            "200/200 [==============================] - 2s 9ms/step - loss: 0.0015 - mean_absolute_percentage_error: 169.1855 - val_loss: 0.0033 - val_mean_absolute_percentage_error: 0.4893\n",
            "Epoch 29/50\n",
            "200/200 [==============================] - 2s 9ms/step - loss: 0.0013 - mean_absolute_percentage_error: 8.0192 - val_loss: 0.0031 - val_mean_absolute_percentage_error: 0.4664\n",
            "Epoch 30/50\n",
            "200/200 [==============================] - 2s 9ms/step - loss: 0.0014 - mean_absolute_percentage_error: 170.3393 - val_loss: 0.0033 - val_mean_absolute_percentage_error: 0.4966\n",
            "Epoch 31/50\n",
            "200/200 [==============================] - 2s 9ms/step - loss: 0.0014 - mean_absolute_percentage_error: 7.9230 - val_loss: 0.0031 - val_mean_absolute_percentage_error: 0.4629\n",
            "Epoch 32/50\n",
            "200/200 [==============================] - 2s 9ms/step - loss: 0.0012 - mean_absolute_percentage_error: 171.7005 - val_loss: 0.0478 - val_mean_absolute_percentage_error: 7.1599\n",
            "Epoch 33/50\n",
            "200/200 [==============================] - 2s 9ms/step - loss: 0.0018 - mean_absolute_percentage_error: 7.9262 - val_loss: 0.0033 - val_mean_absolute_percentage_error: 0.4950\n",
            "Epoch 34/50\n",
            "200/200 [==============================] - 2s 9ms/step - loss: 0.0013 - mean_absolute_percentage_error: 165.9049 - val_loss: 0.0069 - val_mean_absolute_percentage_error: 1.0281\n",
            "Epoch 35/50\n",
            "200/200 [==============================] - 2s 8ms/step - loss: 0.0016 - mean_absolute_percentage_error: 7.5335 - val_loss: 0.0034 - val_mean_absolute_percentage_error: 0.5058\n",
            "Epoch 36/50\n",
            "200/200 [==============================] - 2s 9ms/step - loss: 0.0013 - mean_absolute_percentage_error: 173.9520 - val_loss: 0.0034 - val_mean_absolute_percentage_error: 0.5140\n",
            "Epoch 37/50\n",
            "200/200 [==============================] - 2s 9ms/step - loss: 0.0017 - mean_absolute_percentage_error: 7.3830 - val_loss: 0.0031 - val_mean_absolute_percentage_error: 0.4635\n",
            "Epoch 38/50\n",
            "200/200 [==============================] - 2s 9ms/step - loss: 0.0012 - mean_absolute_percentage_error: 167.8358 - val_loss: 0.0035 - val_mean_absolute_percentage_error: 0.5323\n",
            "Epoch 39/50\n",
            "200/200 [==============================] - 2s 9ms/step - loss: 0.0016 - mean_absolute_percentage_error: 6.5343 - val_loss: 0.0031 - val_mean_absolute_percentage_error: 0.4687\n",
            "Epoch 40/50\n",
            "200/200 [==============================] - 2s 9ms/step - loss: 0.0011 - mean_absolute_percentage_error: 170.5842 - val_loss: 0.0034 - val_mean_absolute_percentage_error: 0.5139\n",
            "Epoch 41/50\n",
            "200/200 [==============================] - 2s 9ms/step - loss: 0.0016 - mean_absolute_percentage_error: 6.0455 - val_loss: 0.0042 - val_mean_absolute_percentage_error: 0.6323\n",
            "Epoch 42/50\n",
            "200/200 [==============================] - 2s 9ms/step - loss: 0.0011 - mean_absolute_percentage_error: 165.4634 - val_loss: 0.0032 - val_mean_absolute_percentage_error: 0.4722\n",
            "Epoch 43/50\n",
            "200/200 [==============================] - 2s 9ms/step - loss: 0.0018 - mean_absolute_percentage_error: 5.7966 - val_loss: 0.0035 - val_mean_absolute_percentage_error: 0.5281\n",
            "Epoch 44/50\n",
            "200/200 [==============================] - 2s 9ms/step - loss: 9.0940e-04 - mean_absolute_percentage_error: 178.7779 - val_loss: 0.0031 - val_mean_absolute_percentage_error: 0.4649\n",
            "Epoch 45/50\n",
            "200/200 [==============================] - 2s 9ms/step - loss: 0.0018 - mean_absolute_percentage_error: 5.9370 - val_loss: 0.0280 - val_mean_absolute_percentage_error: 4.1985\n",
            "Epoch 46/50\n",
            "200/200 [==============================] - 2s 9ms/step - loss: 0.0013 - mean_absolute_percentage_error: 173.1855 - val_loss: 0.0035 - val_mean_absolute_percentage_error: 0.5182\n",
            "Epoch 47/50\n",
            "200/200 [==============================] - 2s 9ms/step - loss: 0.0017 - mean_absolute_percentage_error: 5.6566 - val_loss: 0.0317 - val_mean_absolute_percentage_error: 4.7358\n",
            "Epoch 48/50\n",
            "200/200 [==============================] - 2s 8ms/step - loss: 0.0012 - mean_absolute_percentage_error: 171.2947 - val_loss: 0.0032 - val_mean_absolute_percentage_error: 0.4739\n",
            "Epoch 49/50\n",
            "200/200 [==============================] - 2s 8ms/step - loss: 0.0017 - mean_absolute_percentage_error: 175.3629 - val_loss: 0.0031 - val_mean_absolute_percentage_error: 0.4609\n",
            "Epoch 50/50\n",
            "200/200 [==============================] - 2s 9ms/step - loss: 9.5306e-04 - mean_absolute_percentage_error: 8.4538 - val_loss: 0.0032 - val_mean_absolute_percentage_error: 0.4822\n"
          ]
        },
        {
          "output_type": "execute_result",
          "data": {
            "text/plain": [
              "<keras.callbacks.History at 0x7f92c58823a0>"
            ]
          },
          "metadata": {},
          "execution_count": 81
        }
      ]
    },
    {
      "cell_type": "code",
      "source": [
        "\n",
        "for x, y in val_univariate.take(5): # take 5 random inputs from validation data\n",
        "  plot = show_plot([x[0].numpy(), y[0].numpy(),\n",
        "                    simple_lstm_model.predict(x)[0]], 0, 'Simple LSTM model')\n",
        "  plot.show()"
      ],
      "metadata": {
        "colab": {
          "base_uri": "https://localhost:8080/",
          "height": 1000
        },
        "id": "LbHb6kVhZWXC",
        "outputId": "72e137b9-c3d8-41d3-9bfb-6e27539f38cd"
      },
      "execution_count": 79,
      "outputs": [
        {
          "output_type": "stream",
          "name": "stdout",
          "text": [
            "8/8 [==============================] - 0s 3ms/step\n"
          ]
        },
        {
          "output_type": "display_data",
          "data": {
            "text/plain": [
              "<Figure size 432x288 with 1 Axes>"
            ],
            "image/png": "[encoded data removed]"
          },
          "metadata": {
            "needs_background": "light"
          }
        },
        {
          "output_type": "stream",
          "name": "stdout",
          "text": [
            "8/8 [==============================] - 0s 4ms/step\n"
          ]
        },
        {
          "output_type": "display_data",
          "data": {
            "text/plain": [
              "<Figure size 432x288 with 1 Axes>"
            ],
            "image/png": "[encoded data removed]"
          },
          "metadata": {
            "needs_background": "light"
          }
        },
        {
          "output_type": "stream",
          "name": "stdout",
          "text": [
            "8/8 [==============================] - 0s 3ms/step\n"
          ]
        },
        {
          "output_type": "display_data",
          "data": {
            "text/plain": [
              "<Figure size 432x288 with 1 Axes>"
            ],
            "image/png": "[encoded data removed]"
          },
          "metadata": {
            "needs_background": "light"
          }
        },
        {
          "output_type": "stream",
          "name": "stdout",
          "text": [
            "8/8 [==============================] - 0s 3ms/step\n"
          ]
        },
        {
          "output_type": "display_data",
          "data": {
            "text/plain": [
              "<Figure size 432x288 with 1 Axes>"
            ],
            "image/png": "[encoded data removed]"
          },
          "metadata": {
            "needs_background": "light"
          }
        },
        {
          "output_type": "stream",
          "name": "stdout",
          "text": [
            "8/8 [==============================] - 0s 3ms/step\n"
          ]
        },
        {
          "output_type": "display_data",
          "data": {
            "text/plain": [
              "<Figure size 432x288 with 1 Axes>"
            ],
            "image/png": "[encoded data removed]"
          },
          "metadata": {
            "needs_background": "light"
          }
        }
      ]
    },
    {
      "cell_type": "code",
      "source": [
        "def create_time_steps(length):\n",
        "  return list(range(-length, 0))\n",
        "\n",
        "print(create_time_steps(20))"
      ],
      "metadata": {
        "colab": {
          "base_uri": "https://localhost:8080/"
        },
        "id": "DQZhWA-MZ1t1",
        "outputId": "0e329ecf-6c15-4139-fc9c-799d2d5b6454"
      },
      "execution_count": 75,
      "outputs": [
        {
          "output_type": "stream",
          "name": "stdout",
          "text": [
            "[-20, -19, -18, -17, -16, -15, -14, -13, -12, -11, -10, -9, -8, -7, -6, -5, -4, -3, -2, -1]\n"
          ]
        }
      ]
    },
    {
      "cell_type": "code",
      "source": [
        "def show_plot(plot_data, delta, title):\n",
        "  labels = ['History', 'True Future', 'Model Prediction']\n",
        "  marker = ['.-', 'rx', 'go'] # dot-line, red-x, green-o  refer: https://matplotlib.org/3.1.1/api/markers_api.html\n",
        "  time_steps = create_time_steps(plot_data[0].shape[0])\n",
        "  \n",
        "  if delta:\n",
        "    future = delta\n",
        "  else:\n",
        "    future = 0\n",
        "\n",
        "  plt.title(title)\n",
        "  for i, x in enumerate(plot_data):\n",
        "    if i:\n",
        "      plt.plot(future, plot_data[i], marker[i], markersize=10,\n",
        "               label=labels[i])\n",
        "    else:\n",
        "      plt.plot(time_steps, plot_data[i].flatten(), marker[i], label=labels[i])\n",
        "  plt.legend()\n",
        "  plt.xlim([time_steps[0], (future+5)*2])\n",
        "  plt.xlabel('Time-Step')\n",
        "  return plt\n"
      ],
      "metadata": {
        "id": "OB2P4kTYZssF"
      },
      "execution_count": 73,
      "outputs": []
    },
    {
      "cell_type": "code",
      "source": [
        " plt.plot(list(simple_lstm_model.predict(x),y))"
      ],
      "metadata": {
        "colab": {
          "base_uri": "https://localhost:8080/",
          "height": 187
        },
        "id": "iGkoLjWvZzPr",
        "outputId": "9be70c72-7a5d-4f3d-859a-ec8f405ccbae"
      },
      "execution_count": 340,
      "outputs": [
        {
          "output_type": "stream",
          "name": "stdout",
          "text": [
            "8/8 [==============================] - 0s 6ms/step\n"
          ]
        },
        {
          "output_type": "error",
          "ename": "TypeError",
          "evalue": "ignored",
          "traceback": [
            "\u001b[0;31m---------------------------------------------------------------------------\u001b[0m",
            "\u001b[0;31mTypeError\u001b[0m                                 Traceback (most recent call last)",
            "\u001b[0;32m<ipython-input-340-c97f28e95397>\u001b[0m in \u001b[0;36m<module>\u001b[0;34m\u001b[0m\n\u001b[0;32m----> 1\u001b[0;31m \u001b[0mplt\u001b[0m\u001b[0;34m.\u001b[0m\u001b[0mplot\u001b[0m\u001b[0;34m(\u001b[0m\u001b[0mlist\u001b[0m\u001b[0;34m(\u001b[0m\u001b[0msimple_lstm_model\u001b[0m\u001b[0;34m.\u001b[0m\u001b[0mpredict\u001b[0m\u001b[0;34m(\u001b[0m\u001b[0mx\u001b[0m\u001b[0;34m)\u001b[0m\u001b[0;34m,\u001b[0m\u001b[0my\u001b[0m\u001b[0;34m)\u001b[0m\u001b[0;34m)\u001b[0m\u001b[0;34m\u001b[0m\u001b[0;34m\u001b[0m\u001b[0m\n\u001b[0m",
            "\u001b[0;31mTypeError\u001b[0m: list expected at most 1 argument, got 2"
          ]
        }
      ]
    },
    {
      "cell_type": "code",
      "source": [
        "plt.plot(simple_lstm_model.predict(x))"
      ],
      "metadata": {
        "colab": {
          "base_uri": "https://localhost:8080/",
          "height": 301
        },
        "id": "jPDvA0YubjTK",
        "outputId": "340ae018-f6e5-447f-999b-5bcfa0117db6"
      },
      "execution_count": 347,
      "outputs": [
        {
          "output_type": "stream",
          "name": "stdout",
          "text": [
            "8/8 [==============================] - 0s 8ms/step\n"
          ]
        },
        {
          "output_type": "execute_result",
          "data": {
            "text/plain": [
              "[<matplotlib.lines.Line2D at 0x7fd92a551d00>]"
            ]
          },
          "metadata": {},
          "execution_count": 347
        },
        {
          "output_type": "display_data",
          "data": {
            "text/plain": [
              "<Figure size 432x288 with 1 Axes>"
            ],
            "image/png": "[encoded data removed]"
          },
          "metadata": {
            "needs_background": "light"
          }
        }
      ]
    },
    {
      "cell_type": "code",
      "source": [
        "plt.plot(y)"
      ],
      "metadata": {
        "colab": {
          "base_uri": "https://localhost:8080/",
          "height": 285
        },
        "id": "WWt_fgHMb2pa",
        "outputId": "1821bf9f-3d84-49e1-89c4-f66786a16e81"
      },
      "execution_count": 348,
      "outputs": [
        {
          "output_type": "execute_result",
          "data": {
            "text/plain": [
              "[<matplotlib.lines.Line2D at 0x7fd92a4fc370>]"
            ]
          },
          "metadata": {},
          "execution_count": 348
        },
        {
          "output_type": "display_data",
          "data": {
            "text/plain": [
              "<Figure size 432x288 with 1 Axes>"
            ],
            "image/png": "[encoded data removed]"
          },
          "metadata": {
            "needs_background": "light"
          }
        }
      ]
    },
    {
      "cell_type": "code",
      "source": [
        "mape(,y)"
      ],
      "metadata": {
        "colab": {
          "base_uri": "https://localhost:8080/"
        },
        "id": "9qGHCpveiLsB",
        "outputId": "8f62292a-4eae-4c0b-d847-ca6fa9ccbc39"
      },
      "execution_count": 351,
      "outputs": [
        {
          "output_type": "stream",
          "name": "stdout",
          "text": [
            "8/8 [==============================] - 0s 3ms/step\n"
          ]
        },
        {
          "output_type": "execute_result",
          "data": {
            "text/plain": [
              "0.1271012895364485"
            ]
          },
          "metadata": {},
          "execution_count": 351
        }
      ]
    },
    {
      "cell_type": "code",
      "source": [
        "def mape(x,y):\n",
        "    val=np.mean(abs((simple_lstm_model.predict(x)-y)/y))\n",
        "    return val"
      ],
      "metadata": {
        "id": "m4c_UyVahy7n"
      },
      "execution_count": 350,
      "outputs": []
    },
    {
      "cell_type": "code",
      "source": [
        "val_univariate"
      ],
      "metadata": {
        "colab": {
          "base_uri": "https://localhost:8080/"
        },
        "id": "S_LNsdHVkbxe",
        "outputId": "f7bd4f25-89fb-4b14-bd75-6861902280a8"
      },
      "execution_count": 364,
      "outputs": [
        {
          "output_type": "execute_result",
          "data": {
            "text/plain": [
              "<RepeatDataset element_spec=(TensorSpec(shape=(None, 12, 8), dtype=tf.float64, name=None), TensorSpec(shape=(None,), dtype=tf.float64, name=None))>"
            ]
          },
          "metadata": {},
          "execution_count": 364
        }
      ]
    },
    {
      "cell_type": "code",
      "source": [
        "for x, y in val_univariate.take(5):\n",
        "  plot = show_plot([x[0][:, 1].numpy(), y[0].numpy(),\n",
        "                    simple_lstm_model.predict(x)[0]], 12,\n",
        "                   'Single Step Prediction')\n",
        "  plot.show()"
      ],
      "metadata": {
        "colab": {
          "base_uri": "https://localhost:8080/",
          "height": 1000
        },
        "id": "0HXzXBC2iYrq",
        "outputId": "aeef3422-2b34-461e-c733-29f0711937a4"
      },
      "execution_count": 366,
      "outputs": [
        {
          "output_type": "stream",
          "name": "stdout",
          "text": [
            "8/8 [==============================] - 0s 4ms/step\n"
          ]
        },
        {
          "output_type": "display_data",
          "data": {
            "text/plain": [
              "<Figure size 432x288 with 1 Axes>"
            ],
            "image/png": "[encoded data removed]"
          },
          "metadata": {
            "needs_background": "light"
          }
        },
        {
          "output_type": "stream",
          "name": "stdout",
          "text": [
            "8/8 [==============================] - 0s 5ms/step\n"
          ]
        },
        {
          "output_type": "display_data",
          "data": {
            "text/plain": [
              "<Figure size 432x288 with 1 Axes>"
            ],
            "image/png": "[encoded data removed]"
          },
          "metadata": {
            "needs_background": "light"
          }
        },
        {
          "output_type": "stream",
          "name": "stdout",
          "text": [
            "8/8 [==============================] - 0s 5ms/step\n"
          ]
        },
        {
          "output_type": "display_data",
          "data": {
            "text/plain": [
              "<Figure size 432x288 with 1 Axes>"
            ],
            "image/png": "[encoded data removed]"
          },
          "metadata": {
            "needs_background": "light"
          }
        },
        {
          "output_type": "stream",
          "name": "stdout",
          "text": [
            "8/8 [==============================] - 0s 6ms/step\n"
          ]
        },
        {
          "output_type": "display_data",
          "data": {
            "text/plain": [
              "<Figure size 432x288 with 1 Axes>"
            ],
            "image/png": "[encoded data removed]"
          },
          "metadata": {
            "needs_background": "light"
          }
        },
        {
          "output_type": "stream",
          "name": "stdout",
          "text": [
            "8/8 [==============================] - 0s 9ms/step\n"
          ]
        },
        {
          "output_type": "display_data",
          "data": {
            "text/plain": [
              "<Figure size 432x288 with 1 Axes>"
            ],
            "image/png": "[encoded data removed]"
          },
          "metadata": {
            "needs_background": "light"
          }
        }
      ]
    },
    {
      "cell_type": "code",
      "source": [
        "np.mean(p)"
      ],
      "metadata": {
        "colab": {
          "base_uri": "https://localhost:8080/"
        },
        "id": "-kUBMqsJi2Pn",
        "outputId": "a2105cc0-ca0b-4dda-fbff-c1cdf38fcfea"
      },
      "execution_count": 361,
      "outputs": [
        {
          "output_type": "execute_result",
          "data": {
            "text/plain": [
              "0.754718969199068"
            ]
          },
          "metadata": {},
          "execution_count": 361
        }
      ]
    },
    {
      "cell_type": "code",
      "source": [],
      "metadata": {
        "id": "77wFgV4_kLNg"
      },
      "execution_count": null,
      "outputs": []
    }
  ]
}